{
 "cells": [
  {
   "cell_type": "markdown",
   "metadata": {},
   "source": [
    "## 准备数据集\n",
    "\n",
    "**下载数据集并解压**"
   ]
  },
  {
   "cell_type": "code",
   "execution_count": null,
   "metadata": {
    "collapsed": false,
    "jupyter": {
     "outputs_hidden": false
    },
    "scrolled": true,
    "tags": []
   },
   "outputs": [],
   "source": [
    "!wget https://dataset-bj.cdn.bcebos.com/%E5%8C%BB%E7%96%97%E6%AF%94%E8%B5%9B/GOALS2022-Train.zip\n",
    "!wget https://dataset-bj.cdn.bcebos.com/%E5%8C%BB%E7%96%97%E6%AF%94%E8%B5%9B/GOALS2022-Validation.zip\n",
    "\n",
    "!unzip -oq GOALS2022-Train.zip -d GOALS2022-Train\n",
    "!unzip -oq GOALS2022-Validation.zip -d GOALS2022-Validation"
   ]
  },
  {
   "cell_type": "code",
   "execution_count": null,
   "metadata": {
    "scrolled": true
   },
   "outputs": [],
   "source": [
    "!rm GOALS2022-Train.zip\n",
    "!rm GOALS2022-Validation.zip"
   ]
  },
  {
   "cell_type": "markdown",
   "metadata": {},
   "source": [
    "**图像另存为单通道灰度图，标签数值重映射至0-3**"
   ]
  },
  {
   "cell_type": "code",
   "execution_count": null,
   "metadata": {
    "scrolled": true,
    "tags": []
   },
   "outputs": [],
   "source": [
    "!python preprocess.py"
   ]
  },
  {
   "cell_type": "markdown",
   "metadata": {},
   "source": [
    "**增加水平翻转验证集**"
   ]
  },
  {
   "cell_type": "code",
   "execution_count": null,
   "metadata": {
    "scrolled": true,
    "tags": []
   },
   "outputs": [],
   "source": [
    "import cv2\n",
    "import os\n",
    "\n",
    "name_list = ['0076.png', '0063.png', '0054.png', '0075.png', '0065.png',\n",
    "             '0066.png', '0011.png', '0090.png', '0068.png', '0003.png']\n",
    "for file_name in name_list:\n",
    "    image = cv2.imread(os.path.join('GOALS2022-Train/Train/Image', file_name), cv2.IMREAD_GRAYSCALE)\n",
    "    label = cv2.imread(os.path.join('GOALS2022-Train/Train/Layer_Masks', file_name), cv2.IMREAD_GRAYSCALE)\n",
    "\n",
    "    image = cv2.flip(image, flipCode=1)\n",
    "    label = cv2.flip(label, flipCode=1)\n",
    "\n",
    "    cv2.imwrite(os.path.join('GOALS2022-Train/Train/Image', '_' + file_name), image)\n",
    "    cv2.imwrite(os.path.join('GOALS2022-Train/Train/Layer_Masks', '_' + file_name), label)"
   ]
  },
  {
   "cell_type": "markdown",
   "metadata": {},
   "source": [
    "**生成脉络膜区域（cls 3）**"
   ]
  },
  {
   "cell_type": "code",
   "execution_count": null,
   "metadata": {
    "scrolled": true,
    "tags": []
   },
   "outputs": [],
   "source": [
    "import cv2\n",
    "import numpy as np\n",
    "import glob\n",
    "from tqdm import tqdm\n",
    "\n",
    "!cp -r GOALS2022-Train GOALS2022-Train_cls3\n",
    "mask_list = glob.glob('GOALS2022-Train_cls3/Train/Layer_Masks/*.png')\n",
    "for path in tqdm(mask_list):\n",
    "    mask = cv2.imread(path, cv2.IMREAD_GRAYSCALE)\n",
    "    mask[mask != 3] = 0\n",
    "    mask[mask == 3] = 1\n",
    "    cv2.imwrite(path, mask)"
   ]
  },
  {
   "cell_type": "markdown",
   "metadata": {},
   "source": [
    "**生成GCIPL区域（cls 2）**"
   ]
  },
  {
   "cell_type": "code",
   "execution_count": null,
   "metadata": {
    "scrolled": true,
    "tags": []
   },
   "outputs": [],
   "source": [
    "import cv2\n",
    "import numpy as np\n",
    "import glob\n",
    "from tqdm import tqdm\n",
    "\n",
    "!cp -r GOALS2022-Train GOALS2022-Train_cls2\n",
    "mask_list = glob.glob('GOALS2022-Train_cls2/Train/Layer_Masks/*.png')\n",
    "for path in tqdm(mask_list):\n",
    "    mask = cv2.imread(path, cv2.IMREAD_GRAYSCALE)\n",
    "    mask[mask != 2] = 0\n",
    "    mask[mask == 2] = 1\n",
    "    cv2.imwrite(path, mask)"
   ]
  },
  {
   "cell_type": "markdown",
   "metadata": {},
   "source": [
    "**验证标签合法性**"
   ]
  },
  {
   "cell_type": "code",
   "execution_count": null,
   "metadata": {
    "scrolled": true,
    "tags": []
   },
   "outputs": [],
   "source": [
    "import cv2\n",
    "import numpy as np\n",
    "\n",
    "print(np.unique(cv2.imread('GOALS2022-Train/Train/Layer_Masks/0003.png')))\n",
    "print(np.unique(cv2.imread('GOALS2022-Train/Train/Layer_Masks/_0003.png')))\n",
    "print(np.unique(cv2.imread('GOALS2022-Train_cls2/Train/Layer_Masks/0003.png')))\n",
    "print(np.unique(cv2.imread('GOALS2022-Train_cls3/Train/Layer_Masks/0003.png')))"
   ]
  },
  {
   "cell_type": "markdown",
   "metadata": {},
   "source": [
    "## 图像分类"
   ]
  },
  {
   "cell_type": "code",
   "execution_count": null,
   "metadata": {
    "scrolled": true,
    "tags": []
   },
   "outputs": [],
   "source": [
    "!pip install paddlex==2.1.0"
   ]
  },
  {
   "cell_type": "markdown",
   "metadata": {},
   "source": [
    "**模型训练**"
   ]
  },
  {
   "cell_type": "code",
   "execution_count": null,
   "metadata": {
    "scrolled": true,
    "tags": []
   },
   "outputs": [],
   "source": [
    "!python train_cls.py"
   ]
  },
  {
   "cell_type": "markdown",
   "metadata": {},
   "source": [
    "**模型预测**"
   ]
  },
  {
   "cell_type": "code",
   "execution_count": null,
   "metadata": {
    "scrolled": true,
    "tags": []
   },
   "outputs": [],
   "source": [
    "!python infer_cls.py"
   ]
  },
  {
   "cell_type": "markdown",
   "metadata": {},
   "source": [
    "## 图像分割\n",
    "\n",
    "### 训练阶段"
   ]
  },
  {
   "cell_type": "markdown",
   "metadata": {},
   "source": [
    "**统计均值/标准差**"
   ]
  },
  {
   "cell_type": "code",
   "execution_count": null,
   "metadata": {
    "scrolled": true,
    "tags": []
   },
   "outputs": [],
   "source": [
    "!pip install paddlex==1.3.11"
   ]
  },
  {
   "cell_type": "code",
   "execution_count": null,
   "metadata": {
    "execution": {
     "iopub.status.idle": "2022-08-15T06:05:50.240325Z",
     "shell.execute_reply": "2022-08-15T06:05:50.239470Z",
     "shell.execute_reply.started": "2022-08-15T06:05:40.860240Z"
    },
    "scrolled": true,
    "tags": []
   },
   "outputs": [],
   "source": [
    "import paddlex as pdx\n",
    "\n",
    "train_analysis = pdx.datasets.analysis.Seg(\n",
    "    data_dir='GOALS2022-Train/Train',\n",
    "    file_list='split_lists/seg_holdout/train.txt',\n",
    "    label_list='split_lists/seg_holdout/labels.txt')\n",
    "\n",
    "train_analysis.analysis()"
   ]
  },
  {
   "cell_type": "code",
   "execution_count": null,
   "metadata": {
    "scrolled": true
   },
   "outputs": [],
   "source": [
    "!python train_seg_cls123.py"
   ]
  },
  {
   "cell_type": "code",
   "execution_count": null,
   "metadata": {
    "scrolled": true
   },
   "outputs": [],
   "source": [
    "!python train_seg_cls3.py"
   ]
  },
  {
   "cell_type": "markdown",
   "metadata": {},
   "source": [
    "**统计均值/标准差**"
   ]
  },
  {
   "cell_type": "code",
   "execution_count": null,
   "metadata": {
    "execution": {
     "iopub.execute_input": "2022-08-15T06:08:29.178636Z",
     "iopub.status.busy": "2022-08-15T06:08:29.177737Z",
     "iopub.status.idle": "2022-08-15T06:08:31.701659Z",
     "shell.execute_reply": "2022-08-15T06:08:31.700743Z",
     "shell.execute_reply.started": "2022-08-15T06:08:29.178604Z"
    },
    "scrolled": true,
    "tags": []
   },
   "outputs": [],
   "source": [
    "import cv2\n",
    "import glob\n",
    "import os\n",
    "import numpy as np\n",
    "\n",
    "\n",
    "def get_file_list(dataset_root, train_file_path):\n",
    "    file_list = []\n",
    "    with open(train_file_path, mode='r') as f:\n",
    "        for line in f:\n",
    "            items = line.strip().split()\n",
    "            image_path = os.path.join(dataset_root, items[0])\n",
    "            label_path = os.path.join(dataset_root, items[1])\n",
    "            file_list.append([image_path, label_path])\n",
    "    return file_list\n",
    "\n",
    "\n",
    "def get_mean_std(dataset_root, train_file_path, only_gt=False):\n",
    "    max_val, min_val = 0, 255\n",
    "    mean, std = 0, 0\n",
    "\n",
    "    file_list = get_file_list(dataset_root, train_file_path)\n",
    "    for i in range(len(file_list)):\n",
    "        image = cv2.imread(file_list[i][0], cv2.IMREAD_GRAYSCALE)\n",
    "\n",
    "        if only_gt:\n",
    "            label = cv2.imread(file_list[i][1], cv2.IMREAD_GRAYSCALE)\n",
    "            image[label == 0] = 0\n",
    "            _mean, _std = cv2.meanStdDev(image, mask=label)\n",
    "            mean += _mean\n",
    "            std += _std\n",
    "        else:\n",
    "            mean += image.mean()\n",
    "            std += image.std()\n",
    "        max_val = max(max_val, image.max())\n",
    "        min_val = min(min_val, image.min())\n",
    "\n",
    "    mean /= len(file_list)\n",
    "    std /= len(file_list)\n",
    "    mean /= max_val - min_val\n",
    "    std /= max_val - min_val\n",
    "\n",
    "    return mean, std\n",
    "\n",
    "\n",
    "print(get_mean_std(\n",
    "    dataset_root='GOALS2022-Train_cls2/Train',\n",
    "    train_file_path='split_lists/seg_cv/full.txt',\n",
    "    only_gt=False))\n",
    "print(get_mean_std(\n",
    "    dataset_root='GOALS2022-Train_cls2/Train',\n",
    "    train_file_path='split_lists/seg_cv/full.txt',\n",
    "    only_gt=True))"
   ]
  },
  {
   "cell_type": "code",
   "execution_count": null,
   "metadata": {
    "scrolled": true
   },
   "outputs": [],
   "source": [
    "!python train_seg_cls2.py"
   ]
  },
  {
   "cell_type": "markdown",
   "metadata": {},
   "source": [
    "### 预测阶段"
   ]
  },
  {
   "cell_type": "code",
   "execution_count": 2,
   "metadata": {
    "scrolled": true
   },
   "outputs": [],
   "source": [
    "!python infer_seg_cls123.py\n",
    "!python infer_seg_cls2.py\n",
    "!python infer_seg_cls3.py\n",
    "!python infer_seg_merge.py"
   ]
  },
  {
   "cell_type": "markdown",
   "metadata": {},
   "source": [
    "**结果文件打包**"
   ]
  },
  {
   "cell_type": "code",
   "execution_count": null,
   "metadata": {
    "scrolled": true
   },
   "outputs": [],
   "source": [
    "!zip -rq results.zip results"
   ]
  }
 ],
 "metadata": {
  "kernelspec": {
   "display_name": "Python 3.7.11 ('paddle')",
   "language": "python",
   "name": "python3"
  },
  "language_info": {
   "codemirror_mode": {
    "name": "ipython",
    "version": 3
   },
   "file_extension": ".py",
   "mimetype": "text/x-python",
   "name": "python",
   "nbconvert_exporter": "python",
   "pygments_lexer": "ipython3",
   "version": "3.7.11"
  },
  "vscode": {
   "interpreter": {
    "hash": "a8b4318cc1654c78a89a59dac1e1fd4bef831fb2147060e8ea78c4bdffe91330"
   }
  }
 },
 "nbformat": 4,
 "nbformat_minor": 4
}
