{
 "cells": [
  {
   "cell_type": "code",
   "execution_count": 1,
   "id": "5873b04c",
   "metadata": {},
   "outputs": [],
   "source": [
    "import os\n",
    "import random\n",
    "from tqdm import tqdm\n",
    "import SimpleITK as sitk\n",
    "import cv2\n",
    "import numpy as np\n",
    "import matplotlib.pyplot as plt\n",
    "\n",
    "from scipy.ndimage import gaussian_filter\n",
    "from scipy.ndimage.measurements import label"
   ]
  },
  {
   "cell_type": "code",
   "execution_count": 2,
   "id": "baf4fc33",
   "metadata": {},
   "outputs": [],
   "source": [
    "root = '/home/liyihao/LI/GOALS'\n",
    "img_path = root + '/GOALS2022-Train/Train/Image'\n",
    "mask_path = root + '/GOALS2022-Train/Train/Layer_Masks'\n",
    "base_test = root + '/GOALS2022-Validation/GOALS2022-Validation/Image'"
   ]
  },
  {
   "cell_type": "code",
   "execution_count": 3,
   "id": "eb3b0cda",
   "metadata": {},
   "outputs": [
    {
     "name": "stdout",
     "output_type": "stream",
     "text": [
      "['0046.png', '0069.png', '0013.png', '0047.png', '0099.png', '0084.png', '0086.png', '0015.png', '0083.png', '0043.png', '0055.png', '0035.png', '0038.png', '0005.png', '0027.png', '0039.png', '0011.png', '0060.png', '0041.png', '0002.png', '0004.png', '0028.png', '0091.png', '0068.png', '0007.png', '0088.png', '0061.png', '0010.png', '0076.png', '0079.png', '0057.png', '0066.png', '0018.png', '0096.png', '0082.png', '0090.png', '0067.png', '0029.png', '0052.png', '0032.png', '0078.png', '0036.png', '0016.png', '0064.png', '0093.png', '0100.png', '0044.png', '0070.png', '0001.png', '0040.png', '0034.png', '0062.png', '0087.png', '0075.png', '0023.png', '0024.png', '0012.png', '0095.png', '0026.png', '0054.png', '0089.png', '0050.png', '0065.png', '0077.png', '0048.png', '0006.png', '0009.png', '0045.png', '0056.png', '0073.png', '0008.png', '0085.png', '0058.png', '0014.png', '0030.png', '0049.png', '0037.png', '0017.png', '0020.png', '0031.png', '0033.png', '0092.png', '0059.png', '0081.png', '0025.png', '0053.png', '0072.png', '0021.png', '0080.png', '0098.png', '0063.png', '0074.png', '0071.png', '0094.png', '0003.png', '0022.png', '0051.png', '0097.png', '0019.png', '0042.png']\n"
     ]
    }
   ],
   "source": [
    "\n",
    "ImgList = os.listdir(img_path)\n",
    "print(ImgList)"
   ]
  },
  {
   "cell_type": "code",
   "execution_count": 4,
   "id": "690748ef",
   "metadata": {},
   "outputs": [
    {
     "name": "stderr",
     "output_type": "stream",
     "text": [
      "conver: 100%|██████████| 100/100 [00:02<00:00, 48.38it/s]\n"
     ]
    }
   ],
   "source": [
    "image_wrong = []\n",
    "with tqdm(ImgList, desc=\"conver\") as pbar:\n",
    "    for name in pbar:\n",
    "        #print(name)        \n",
    "        gt_img = cv2.imread(os.path.join(mask_path, name),cv2.IMREAD_GRAYSCALE)\n",
    "        gt_img[gt_img == 0] = 3\n",
    "        gt_img[gt_img == 80] = 1\n",
    "        gt_img[gt_img == 160] = 2\n",
    "        gt_img[gt_img == 255] = 0\n",
    "        #print(gt_img.shape)\n",
    "        #print(np.unique(gt_img))\n",
    "        \n",
    "        # rule 1 :\n",
    "        _,number = label(gt_img)\n",
    "        if number != 2:\n",
    "            print('rule 1: error')\n",
    "            print(name)\n",
    "            if not str(name) in image_wrong:\n",
    "                image_wrong.append(name)\n",
    "        \n",
    "        for i in range(1100): \n",
    "            colone = gt_img[:,i]\n",
    "            # rule 2\n",
    "            if len(np.unique(colone)) != 4:\n",
    "                print('rule 2: error')\n",
    "                if not str(name) in image_wrong:\n",
    "                    image_wrong.append(name)\n",
    "                "
   ]
  },
  {
   "cell_type": "code",
   "execution_count": 5,
   "id": "e766194e",
   "metadata": {},
   "outputs": [
    {
     "name": "stdout",
     "output_type": "stream",
     "text": [
      "Series([], dtype: int64)\n"
     ]
    }
   ],
   "source": [
    "import pandas as pd\n",
    "res = pd.value_counts(image_wrong)\n",
    "print(res)"
   ]
  },
  {
   "cell_type": "code",
   "execution_count": 6,
   "id": "5bf6b26a",
   "metadata": {},
   "outputs": [
    {
     "name": "stderr",
     "output_type": "stream",
     "text": [
      "conver:   1%|          | 1/100 [00:00<00:18,  5.23it/s]"
     ]
    },
    {
     "name": "stdout",
     "output_type": "stream",
     "text": [
      "0046.png\n",
      "0069.png\n"
     ]
    },
    {
     "name": "stderr",
     "output_type": "stream",
     "text": [
      "conver:   3%|▎         | 3/100 [00:00<00:19,  4.97it/s]"
     ]
    },
    {
     "name": "stdout",
     "output_type": "stream",
     "text": [
      "0013.png\n",
      "0047.png\n"
     ]
    },
    {
     "name": "stderr",
     "output_type": "stream",
     "text": [
      "conver:   5%|▌         | 5/100 [00:00<00:17,  5.47it/s]"
     ]
    },
    {
     "name": "stdout",
     "output_type": "stream",
     "text": [
      "0099.png\n",
      "0084.png\n"
     ]
    },
    {
     "name": "stderr",
     "output_type": "stream",
     "text": [
      "\r",
      "conver:   6%|▌         | 6/100 [00:01<00:16,  5.76it/s]"
     ]
    },
    {
     "name": "stdout",
     "output_type": "stream",
     "text": [
      "0086.png\n"
     ]
    },
    {
     "name": "stderr",
     "output_type": "stream",
     "text": [
      "conver:   8%|▊         | 8/100 [00:01<00:16,  5.62it/s]"
     ]
    },
    {
     "name": "stdout",
     "output_type": "stream",
     "text": [
      "0015.png\n",
      "0083.png\n"
     ]
    },
    {
     "name": "stderr",
     "output_type": "stream",
     "text": [
      "\r",
      "conver:   9%|▉         | 9/100 [00:01<00:15,  5.83it/s]"
     ]
    },
    {
     "name": "stdout",
     "output_type": "stream",
     "text": [
      "0043.png\n"
     ]
    },
    {
     "name": "stderr",
     "output_type": "stream",
     "text": [
      "conver:  11%|█         | 11/100 [00:02<00:15,  5.73it/s]"
     ]
    },
    {
     "name": "stdout",
     "output_type": "stream",
     "text": [
      "0055.png\n",
      "0035.png\n"
     ]
    },
    {
     "name": "stderr",
     "output_type": "stream",
     "text": [
      "conver:  13%|█▎        | 13/100 [00:02<00:15,  5.70it/s]"
     ]
    },
    {
     "name": "stdout",
     "output_type": "stream",
     "text": [
      "0038.png\n",
      "0005.png\n"
     ]
    },
    {
     "name": "stderr",
     "output_type": "stream",
     "text": [
      "conver:  15%|█▌        | 15/100 [00:02<00:14,  6.05it/s]"
     ]
    },
    {
     "name": "stdout",
     "output_type": "stream",
     "text": [
      "0027.png\n",
      "0039.png\n"
     ]
    },
    {
     "name": "stderr",
     "output_type": "stream",
     "text": [
      "conver:  17%|█▋        | 17/100 [00:03<00:14,  5.73it/s]"
     ]
    },
    {
     "name": "stdout",
     "output_type": "stream",
     "text": [
      "0011.png\n",
      "0060.png\n"
     ]
    },
    {
     "name": "stderr",
     "output_type": "stream",
     "text": [
      "conver:  19%|█▉        | 19/100 [00:03<00:13,  5.87it/s]"
     ]
    },
    {
     "name": "stdout",
     "output_type": "stream",
     "text": [
      "0041.png\n",
      "0002.png\n"
     ]
    },
    {
     "name": "stderr",
     "output_type": "stream",
     "text": [
      "conver:  21%|██        | 21/100 [00:03<00:13,  6.07it/s]"
     ]
    },
    {
     "name": "stdout",
     "output_type": "stream",
     "text": [
      "0004.png\n",
      "0028.png\n"
     ]
    },
    {
     "name": "stderr",
     "output_type": "stream",
     "text": [
      "conver:  23%|██▎       | 23/100 [00:03<00:12,  6.15it/s]"
     ]
    },
    {
     "name": "stdout",
     "output_type": "stream",
     "text": [
      "0091.png\n",
      "0068.png\n"
     ]
    },
    {
     "name": "stderr",
     "output_type": "stream",
     "text": [
      "conver:  25%|██▌       | 25/100 [00:04<00:11,  6.40it/s]"
     ]
    },
    {
     "name": "stdout",
     "output_type": "stream",
     "text": [
      "0007.png\n",
      "0088.png\n"
     ]
    },
    {
     "name": "stderr",
     "output_type": "stream",
     "text": [
      "conver:  27%|██▋       | 27/100 [00:04<00:10,  6.72it/s]"
     ]
    },
    {
     "name": "stdout",
     "output_type": "stream",
     "text": [
      "0061.png\n",
      "0010.png\n"
     ]
    },
    {
     "name": "stderr",
     "output_type": "stream",
     "text": [
      "conver:  29%|██▉       | 29/100 [00:04<00:10,  6.50it/s]"
     ]
    },
    {
     "name": "stdout",
     "output_type": "stream",
     "text": [
      "0076.png\n",
      "0079.png\n"
     ]
    },
    {
     "name": "stderr",
     "output_type": "stream",
     "text": [
      "conver:  31%|███       | 31/100 [00:05<00:12,  5.71it/s]"
     ]
    },
    {
     "name": "stdout",
     "output_type": "stream",
     "text": [
      "0057.png\n",
      "0066.png\n"
     ]
    },
    {
     "name": "stderr",
     "output_type": "stream",
     "text": [
      "conver:  33%|███▎      | 33/100 [00:05<00:11,  5.61it/s]"
     ]
    },
    {
     "name": "stdout",
     "output_type": "stream",
     "text": [
      "0018.png\n",
      "0096.png\n"
     ]
    },
    {
     "name": "stderr",
     "output_type": "stream",
     "text": [
      "conver:  35%|███▌      | 35/100 [00:06<00:11,  5.85it/s]"
     ]
    },
    {
     "name": "stdout",
     "output_type": "stream",
     "text": [
      "0082.png\n",
      "0090.png\n"
     ]
    },
    {
     "name": "stderr",
     "output_type": "stream",
     "text": [
      "\r",
      "conver:  36%|███▌      | 36/100 [00:06<00:10,  5.93it/s]"
     ]
    },
    {
     "name": "stdout",
     "output_type": "stream",
     "text": [
      "0067.png\n"
     ]
    },
    {
     "name": "stderr",
     "output_type": "stream",
     "text": [
      "conver:  38%|███▊      | 38/100 [00:06<00:11,  5.39it/s]"
     ]
    },
    {
     "name": "stdout",
     "output_type": "stream",
     "text": [
      "0029.png\n",
      "0052.png\n"
     ]
    },
    {
     "name": "stderr",
     "output_type": "stream",
     "text": [
      "conver:  40%|████      | 40/100 [00:06<00:10,  5.66it/s]"
     ]
    },
    {
     "name": "stdout",
     "output_type": "stream",
     "text": [
      "0032.png\n",
      "0078.png\n"
     ]
    },
    {
     "name": "stderr",
     "output_type": "stream",
     "text": [
      "conver:  42%|████▏     | 42/100 [00:07<00:09,  5.85it/s]"
     ]
    },
    {
     "name": "stdout",
     "output_type": "stream",
     "text": [
      "0036.png\n",
      "0016.png\n"
     ]
    },
    {
     "name": "stderr",
     "output_type": "stream",
     "text": [
      "conver:  44%|████▍     | 44/100 [00:07<00:08,  6.26it/s]"
     ]
    },
    {
     "name": "stdout",
     "output_type": "stream",
     "text": [
      "0064.png\n",
      "0093.png\n"
     ]
    },
    {
     "name": "stderr",
     "output_type": "stream",
     "text": [
      "conver:  46%|████▌     | 46/100 [00:07<00:08,  6.39it/s]"
     ]
    },
    {
     "name": "stdout",
     "output_type": "stream",
     "text": [
      "0100.png\n",
      "0044.png\n"
     ]
    },
    {
     "name": "stderr",
     "output_type": "stream",
     "text": [
      "conver:  48%|████▊     | 48/100 [00:08<00:07,  6.53it/s]"
     ]
    },
    {
     "name": "stdout",
     "output_type": "stream",
     "text": [
      "0070.png\n",
      "0001.png\n"
     ]
    },
    {
     "name": "stderr",
     "output_type": "stream",
     "text": [
      "conver:  50%|█████     | 50/100 [00:08<00:07,  6.30it/s]"
     ]
    },
    {
     "name": "stdout",
     "output_type": "stream",
     "text": [
      "0040.png\n",
      "0034.png\n"
     ]
    },
    {
     "name": "stderr",
     "output_type": "stream",
     "text": [
      "conver:  52%|█████▏    | 52/100 [00:08<00:07,  6.50it/s]"
     ]
    },
    {
     "name": "stdout",
     "output_type": "stream",
     "text": [
      "0062.png\n",
      "0087.png\n"
     ]
    },
    {
     "name": "stderr",
     "output_type": "stream",
     "text": [
      "conver:  54%|█████▍    | 54/100 [00:09<00:07,  6.56it/s]"
     ]
    },
    {
     "name": "stdout",
     "output_type": "stream",
     "text": [
      "0075.png\n",
      "0023.png\n"
     ]
    },
    {
     "name": "stderr",
     "output_type": "stream",
     "text": [
      "conver:  56%|█████▌    | 56/100 [00:09<00:06,  6.65it/s]"
     ]
    },
    {
     "name": "stdout",
     "output_type": "stream",
     "text": [
      "0024.png\n",
      "0012.png\n"
     ]
    },
    {
     "name": "stderr",
     "output_type": "stream",
     "text": [
      "conver:  58%|█████▊    | 58/100 [00:09<00:06,  6.29it/s]"
     ]
    },
    {
     "name": "stdout",
     "output_type": "stream",
     "text": [
      "0095.png\n",
      "0026.png\n"
     ]
    },
    {
     "name": "stderr",
     "output_type": "stream",
     "text": [
      "conver:  60%|██████    | 60/100 [00:10<00:06,  5.92it/s]"
     ]
    },
    {
     "name": "stdout",
     "output_type": "stream",
     "text": [
      "0054.png\n",
      "0089.png\n"
     ]
    },
    {
     "name": "stderr",
     "output_type": "stream",
     "text": [
      "conver:  62%|██████▏   | 62/100 [00:10<00:06,  5.66it/s]"
     ]
    },
    {
     "name": "stdout",
     "output_type": "stream",
     "text": [
      "0050.png\n",
      "0065.png\n"
     ]
    },
    {
     "name": "stderr",
     "output_type": "stream",
     "text": [
      "\r",
      "conver:  63%|██████▎   | 63/100 [00:10<00:07,  5.04it/s]"
     ]
    },
    {
     "name": "stdout",
     "output_type": "stream",
     "text": [
      "0077.png\n"
     ]
    },
    {
     "name": "stderr",
     "output_type": "stream",
     "text": [
      "conver:  65%|██████▌   | 65/100 [00:11<00:06,  5.31it/s]"
     ]
    },
    {
     "name": "stdout",
     "output_type": "stream",
     "text": [
      "0048.png\n",
      "0006.png\n"
     ]
    },
    {
     "name": "stderr",
     "output_type": "stream",
     "text": [
      "conver:  67%|██████▋   | 67/100 [00:11<00:05,  5.59it/s]"
     ]
    },
    {
     "name": "stdout",
     "output_type": "stream",
     "text": [
      "0009.png\n",
      "0045.png\n"
     ]
    },
    {
     "name": "stderr",
     "output_type": "stream",
     "text": [
      "conver:  69%|██████▉   | 69/100 [00:11<00:05,  5.65it/s]"
     ]
    },
    {
     "name": "stdout",
     "output_type": "stream",
     "text": [
      "0056.png\n",
      "0073.png\n"
     ]
    },
    {
     "name": "stderr",
     "output_type": "stream",
     "text": [
      "conver:  71%|███████   | 71/100 [00:12<00:04,  5.84it/s]"
     ]
    },
    {
     "name": "stdout",
     "output_type": "stream",
     "text": [
      "0008.png\n",
      "0085.png\n"
     ]
    },
    {
     "name": "stderr",
     "output_type": "stream",
     "text": [
      "\r",
      "conver:  72%|███████▏  | 72/100 [00:12<00:04,  5.99it/s]"
     ]
    },
    {
     "name": "stdout",
     "output_type": "stream",
     "text": [
      "0058.png\n"
     ]
    },
    {
     "name": "stderr",
     "output_type": "stream",
     "text": [
      "conver:  74%|███████▍  | 74/100 [00:12<00:04,  5.98it/s]"
     ]
    },
    {
     "name": "stdout",
     "output_type": "stream",
     "text": [
      "0014.png\n",
      "0030.png\n"
     ]
    },
    {
     "name": "stderr",
     "output_type": "stream",
     "text": [
      "\r",
      "conver:  75%|███████▌  | 75/100 [00:12<00:04,  5.56it/s]"
     ]
    },
    {
     "name": "stdout",
     "output_type": "stream",
     "text": [
      "0049.png\n"
     ]
    },
    {
     "name": "stderr",
     "output_type": "stream",
     "text": [
      "conver:  77%|███████▋  | 77/100 [00:13<00:04,  5.41it/s]"
     ]
    },
    {
     "name": "stdout",
     "output_type": "stream",
     "text": [
      "0037.png\n",
      "0017.png\n"
     ]
    },
    {
     "name": "stderr",
     "output_type": "stream",
     "text": [
      "conver:  79%|███████▉  | 79/100 [00:13<00:03,  5.91it/s]"
     ]
    },
    {
     "name": "stdout",
     "output_type": "stream",
     "text": [
      "0020.png\n",
      "0031.png\n"
     ]
    },
    {
     "name": "stderr",
     "output_type": "stream",
     "text": [
      "conver:  81%|████████  | 81/100 [00:13<00:03,  6.10it/s]"
     ]
    },
    {
     "name": "stdout",
     "output_type": "stream",
     "text": [
      "0033.png\n",
      "0092.png\n"
     ]
    },
    {
     "name": "stderr",
     "output_type": "stream",
     "text": [
      "\r",
      "conver:  82%|████████▏ | 82/100 [00:13<00:03,  5.96it/s]"
     ]
    },
    {
     "name": "stdout",
     "output_type": "stream",
     "text": [
      "0059.png\n"
     ]
    },
    {
     "name": "stderr",
     "output_type": "stream",
     "text": [
      "conver:  84%|████████▍ | 84/100 [00:14<00:02,  5.76it/s]"
     ]
    },
    {
     "name": "stdout",
     "output_type": "stream",
     "text": [
      "0081.png\n",
      "0025.png\n"
     ]
    },
    {
     "name": "stderr",
     "output_type": "stream",
     "text": [
      "\r",
      "conver:  85%|████████▌ | 85/100 [00:14<00:02,  6.00it/s]"
     ]
    },
    {
     "name": "stdout",
     "output_type": "stream",
     "text": [
      "0053.png\n"
     ]
    },
    {
     "name": "stderr",
     "output_type": "stream",
     "text": [
      "conver:  87%|████████▋ | 87/100 [00:14<00:02,  5.60it/s]"
     ]
    },
    {
     "name": "stdout",
     "output_type": "stream",
     "text": [
      "0072.png\n",
      "0021.png\n"
     ]
    },
    {
     "name": "stderr",
     "output_type": "stream",
     "text": [
      "conver:  89%|████████▉ | 89/100 [00:15<00:01,  5.68it/s]"
     ]
    },
    {
     "name": "stdout",
     "output_type": "stream",
     "text": [
      "0080.png\n",
      "0098.png\n"
     ]
    },
    {
     "name": "stderr",
     "output_type": "stream",
     "text": [
      "conver:  91%|█████████ | 91/100 [00:15<00:01,  6.02it/s]"
     ]
    },
    {
     "name": "stdout",
     "output_type": "stream",
     "text": [
      "0063.png\n",
      "0074.png\n"
     ]
    },
    {
     "name": "stderr",
     "output_type": "stream",
     "text": [
      "conver:  93%|█████████▎| 93/100 [00:15<00:01,  6.21it/s]"
     ]
    },
    {
     "name": "stdout",
     "output_type": "stream",
     "text": [
      "0071.png\n",
      "0094.png\n"
     ]
    },
    {
     "name": "stderr",
     "output_type": "stream",
     "text": [
      "conver:  95%|█████████▌| 95/100 [00:16<00:00,  6.40it/s]"
     ]
    },
    {
     "name": "stdout",
     "output_type": "stream",
     "text": [
      "0003.png\n",
      "0022.png\n"
     ]
    },
    {
     "name": "stderr",
     "output_type": "stream",
     "text": [
      "conver:  97%|█████████▋| 97/100 [00:16<00:00,  6.29it/s]"
     ]
    },
    {
     "name": "stdout",
     "output_type": "stream",
     "text": [
      "0051.png\n",
      "0097.png\n"
     ]
    },
    {
     "name": "stderr",
     "output_type": "stream",
     "text": [
      "conver:  99%|█████████▉| 99/100 [00:16<00:00,  6.41it/s]"
     ]
    },
    {
     "name": "stdout",
     "output_type": "stream",
     "text": [
      "0019.png\n",
      "0042.png\n"
     ]
    },
    {
     "name": "stderr",
     "output_type": "stream",
     "text": [
      "conver: 100%|██████████| 100/100 [00:16<00:00,  5.89it/s]"
     ]
    },
    {
     "name": "stdout",
     "output_type": "stream",
     "text": [
      "check out\n"
     ]
    },
    {
     "name": "stderr",
     "output_type": "stream",
     "text": [
      "\n"
     ]
    }
   ],
   "source": [
    "with tqdm(ImgList, desc=\"conver\") as pbar:\n",
    "    for name in pbar:\n",
    "        if not str(name) in image_wrong:\n",
    "            print(name)\n",
    "            gt_img = cv2.imread(os.path.join(mask_path, name),cv2.IMREAD_GRAYSCALE)\n",
    "            gt_img[gt_img == 0] = 3\n",
    "            gt_img[gt_img == 80] = 1\n",
    "            gt_img[gt_img == 160] = 2\n",
    "            gt_img[gt_img == 255] = 0\n",
    "\n",
    "            for z in range(1100):\n",
    "                colone = gt_img[:,z]\n",
    "                #print(name)\n",
    "                g3_haut = np.max(np.argwhere(colone == 3 ))\n",
    "                g3_bas = np.min(np.argwhere(colone == 3 ))\n",
    "\n",
    "                g2_haut = np.max(np.argwhere(colone == 2 ))\n",
    "                g2_bas = np.min(np.argwhere(colone == 2 ))\n",
    "\n",
    "                g1_haut = np.max(np.argwhere(colone == 1 ))\n",
    "                g1_bas = np.min(np.argwhere(colone == 1 ))\n",
    "                # rule 3\n",
    "\n",
    "                for ele in colone[g3_bas:g3_haut]:\n",
    "                    if ele != 3:\n",
    "                        print('rule 3 error : label 3')\n",
    "                        print(name)\n",
    "                        if not str(name) in image_wrong:\n",
    "                            image_wrong.append(name)\n",
    "\n",
    "                for ele in colone[g2_bas:g2_haut]:\n",
    "                    if ele != 2:\n",
    "                        print('rule 3 error : label 2')\n",
    "                        print(name)\n",
    "                        if not str(name) in image_wrong:\n",
    "                            image_wrong.append(name)\n",
    "\n",
    "                for ele in colone[g1_bas:g1_haut]:\n",
    "                    if ele != 1:\n",
    "                        print('rule 3 error : label 1')\n",
    "                        print(name)\n",
    "                        if not str(name) in image_wrong:\n",
    "                            image_wrong.append(name)\n",
    "\n",
    "print('check out')"
   ]
  },
  {
   "cell_type": "code",
   "execution_count": 7,
   "id": "89c95f86",
   "metadata": {},
   "outputs": [
    {
     "name": "stdout",
     "output_type": "stream",
     "text": [
      "Series([], dtype: int64)\n"
     ]
    }
   ],
   "source": [
    "import pandas as pd\n",
    "res = pd.value_counts(image_wrong)\n",
    "print(res)"
   ]
  },
  {
   "cell_type": "code",
   "execution_count": null,
   "id": "a5be9ddf",
   "metadata": {},
   "outputs": [],
   "source": []
  }
 ],
 "metadata": {
  "kernelspec": {
   "display_name": "Python 3",
   "language": "python",
   "name": "python3"
  },
  "language_info": {
   "codemirror_mode": {
    "name": "ipython",
    "version": 3
   },
   "file_extension": ".py",
   "mimetype": "text/x-python",
   "name": "python",
   "nbconvert_exporter": "python",
   "pygments_lexer": "ipython3",
   "version": "3.6.13"
  }
 },
 "nbformat": 4,
 "nbformat_minor": 5
}
